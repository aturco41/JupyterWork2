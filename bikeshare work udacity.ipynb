{
 "cells": [
  {
   "cell_type": "code",
   "execution_count": 1,
   "metadata": {},
   "outputs": [
    {
     "ename": "ImportError",
     "evalue": "cannot import name 'counter'",
     "output_type": "error",
     "traceback": [
      "\u001b[0;31m---------------------------------------------------------------------------\u001b[0m",
      "\u001b[0;31mImportError\u001b[0m                               Traceback (most recent call last)",
      "\u001b[0;32m<ipython-input-1-a0d6d2eff6a6>\u001b[0m in \u001b[0;36m<module>\u001b[0;34m()\u001b[0m\n\u001b[1;32m      5\u001b[0m \u001b[0mget_ipython\u001b[0m\u001b[0;34m(\u001b[0m\u001b[0;34m)\u001b[0m\u001b[0;34m.\u001b[0m\u001b[0mmagic\u001b[0m\u001b[0;34m(\u001b[0m\u001b[0;34m'matplotlib inline'\u001b[0m\u001b[0;34m)\u001b[0m\u001b[0;34m\u001b[0m\u001b[0m\n\u001b[1;32m      6\u001b[0m \u001b[0;32mimport\u001b[0m \u001b[0mdatetime\u001b[0m\u001b[0;34m\u001b[0m\u001b[0m\n\u001b[0;32m----> 7\u001b[0;31m \u001b[0;32mfrom\u001b[0m \u001b[0mcollections\u001b[0m \u001b[0;32mimport\u001b[0m \u001b[0mcounter\u001b[0m\u001b[0;34m\u001b[0m\u001b[0m\n\u001b[0m\u001b[1;32m      8\u001b[0m \u001b[0;32mfrom\u001b[0m \u001b[0mitertools\u001b[0m \u001b[0;32mimport\u001b[0m \u001b[0mislice\u001b[0m\u001b[0;34m\u001b[0m\u001b[0m\n",
      "\u001b[0;31mImportError\u001b[0m: cannot import name 'counter'"
     ]
    }
   ],
   "source": [
    "import csv\n",
    "import os\n",
    "import pandas as pd\n",
    "import numpy as np\n",
    "% matplotlib inline\n",
    "import datetime\n",
    "from collections import counter\n",
    "from itertools import islice"
   ]
  },
  {
   "cell_type": "code",
   "execution_count": null,
   "metadata": {},
   "outputs": [],
   "source": [
    "filename = input(\"Hello! Let's explore bikeshare data! \\n Would you like to see data for Chicago, New York, or Washington? \\n\")\n",
    "filename = filename.lower()\n",
    "selectfile = pd.read_csv(open('/Users/audreyturco/Downloads/' + filename + '.csv'))\n",
    "selectfile.columns = [c.lower().replace(' ', '_') for c in selectfile.columns]\n",
    "selectfile['start_time'] = pd.to_datetime(selectfile['start_time'])\n",
    "selectfile['end_time'] = pd.to_datetime(selectfile['end_time'])\n",
    "selectfile['start_month'] = pd.DatetimeIndex(selectfile['start_time']).month\n",
    "selectfile['start_day'] = pd.DatetimeIndex(selectfile['start_time']).day\n",
    "selectfile['day_of_week'] = selectfile['start_time'].dt.weekday_name\n",
    "print(selectfile.head(10))\n",
    "\n"
   ]
  },
  {
   "cell_type": "code",
   "execution_count": null,
   "metadata": {},
   "outputs": [],
   "source": [
    "def get_time_period():\n",
    "    #'''Asks the user for a time period and returns the specified filter.\n",
    "\n",
    "    #    none.\n",
    "   # Returns: (str) timeperiod name of month, day, or no time filter.\n",
    "     #   TODO: fill out return type and description (see get_city for an example)\n",
    "        time_period = input('\\nWould you like to filter the data by month, day, or not at'\n",
    "                        ' all? Type \"none\" for no time filter.\\n')\n",
    "   \n",
    "    \n",
    "        time_period = time_period.lower()\n",
    "        if time_period == 'none':\n",
    "            time_period = selectfile[\"start_month\"].mean()\n",
    "        return time_period\n",
    "print('Your timefilter is:', get_time_period())\n"
   ]
  },
  {
   "cell_type": "code",
   "execution_count": null,
   "metadata": {},
   "outputs": [],
   "source": [
    "def get_month():\n",
    "    '''Asks the user for a month and returns the specified month.\n",
    "\n",
    "    Args:\n",
    "        none.\n",
    "    Returns:\n",
    "    (str) Month of data wanted\n",
    "        TODO: \n",
    "        fill out return type and description (see get_city for an example)\n",
    "    '''\n",
    "    month = input('\\nWhich month? January, February, March, April, May, or June?\\n')\n",
    "    # TODO: handle raw input and complete function\n",
    "    month =  month.lower()\n",
    "    if month == 'january':\n",
    "        return 1\n",
    "    elif month == 'february':\n",
    "        return 2\n",
    "    elif month == 'march':\n",
    "        return 3\n",
    "    elif month == 'april':\n",
    "        return 4\n",
    "    elif month == 'may':\n",
    "        return 5\n",
    "    elif month == 'june':\n",
    "        return 6\n",
    "\n",
    "get_month()\n",
    "      \n",
    "\n",
    "    \n"
   ]
  },
  {
   "cell_type": "code",
   "execution_count": null,
   "metadata": {},
   "outputs": [],
   "source": [
    "\n",
    "def get_day():\n",
    "    '''Asks the user for a day and returns the specified day.\n",
    "\n",
    "    Args:\n",
    "        none.\n",
    "    Returns:\n",
    "        (int) specified day of data wanted\n",
    "        TODO: fill out return type and description (see get_city for an example)\n",
    "    '''\n",
    "    day = int(input('\\nWhich day? Please type your response as an integer.\\n'))\n",
    "    if day <= 31:\n",
    "        pass\n",
    "    else:\n",
    "        return('Your number is too large for a calendar date.')\n",
    "    return(day)\n",
    "print(get_day())\n",
    "    # TODO: handle raw input and complete function\n",
    "    \n"
   ]
  },
  {
   "cell_type": "code",
   "execution_count": null,
   "metadata": {},
   "outputs": [],
   "source": [
    "def popular_day():\n",
    "    popular_day = selectfile['day_of_week'].mode()\n",
    "    return(popular_day)\n",
    "print(popular_day())\n",
    "    # TODO: complete function def popular_day(selectfile, time_period):\n",
    "    #'''TODO: fill out docstring with description, arguments, and return values.\n",
    "    #Question: What is the most popular day of week (Monday, Tuesday, etc.) for start time?\n",
    "    #'''\n",
    "    "
   ]
  },
  {
   "cell_type": "code",
   "execution_count": null,
   "metadata": {},
   "outputs": [],
   "source": [
    "def popular_hour():\n",
    "    # TODO: complete function def popular_hour(city_file, time_period):\n",
    "    #'''TODO: fill out docstring with description, arguments, and return values.\n",
    "    #Question: What is the most popular hour of day for start time?\n",
    "    #'''\n",
    "    popular_hour = selectfile['start_time'].dt.hour\n",
    "    \n",
    "#selectfile.timestamp.apply(lambda x: x.hour)\n",
    "    return(popular_hour.mode())\n",
    "popular_hour()\n"
   ]
  },
  {
   "cell_type": "code",
   "execution_count": null,
   "metadata": {},
   "outputs": [],
   "source": [
    "def trip_duration():\n",
    "    '''TODO: fill out docstring with description, arguments, and return values.\n",
    "    Question: What is the total trip duration and average trip duration?\n",
    "    '''\n",
    "    total_duration = sum(selectfile['trip_duration'])\n",
    "    avg_duration = selectfile['trip_duration'].mean()\n",
    "    return(total_duration, avg_duration)\n",
    "print('Your total trip duration, and average trip duration are: ',trip_duration(), 'respectively.')\n",
    "    # TODO: complete function\n"
   ]
  },
  {
   "cell_type": "code",
   "execution_count": null,
   "metadata": {},
   "outputs": [],
   "source": [
    "def popular_stations():\n",
    "    '''TODO: fill out docstring with description, arguments, and return values.\n",
    "    Question: What is the most popular start station and most popular end station?\n",
    "    '''\n",
    "    pop_start = selectfile['start_station'].mode()\n",
    "    pop_end = selectfile['end_station'].mode()\n",
    "    return('The most popular start station is', pop_start, 'and the most popular end station is', pop_end)\n",
    "    \n",
    "popular_stations()\n",
    "\n",
    "    # TODO: complete function"
   ]
  },
  {
   "cell_type": "code",
   "execution_count": null,
   "metadata": {
    "collapsed": true
   },
   "outputs": [],
   "source": [
    "def popular_trip(city_file, time_period):\n",
    "    '''TODO: fill out docstring with description, arguments, and return values.\n",
    "    Question: What is the most popular trip?\n",
    "    '''\n",
    "    \n",
    "    # TODO: complete function\n"
   ]
  },
  {
   "cell_type": "code",
   "execution_count": 460,
   "metadata": {},
   "outputs": [
    {
     "name": "stdout",
     "output_type": "stream",
     "text": [
      "Subscriber    779\n",
      "Customer      221\n",
      "Name: user_type, dtype: int64\n"
     ]
    }
   ],
   "source": [
    "def users():\n",
    "    '''TODO: fill out docstring with description, arguments, and return values.\n",
    "    Question: What are the counts of each user type?\n",
    "    '''\n",
    "    return selectfile['user_type'].value_counts()\n",
    "    \n",
    "   \n",
    "print(users())\n",
    "    # TODO: complete function\n"
   ]
  },
  {
   "cell_type": "code",
   "execution_count": 461,
   "metadata": {},
   "outputs": [
    {
     "name": "stdout",
     "output_type": "stream",
     "text": [
      "Male      541\n",
      "Female    239\n",
      "NaN       220\n",
      "Name: gender, dtype: int64\n"
     ]
    }
   ],
   "source": [
    "def gender():\n",
    "    '''TODO: fill out docstring with description, arguments, and return values.\n",
    "    Question: What are the counts of gender?\n",
    "    '''\n",
    "    return(selectfile[\"gender\"].value_counts(dropna=False))\n",
    "print(gender())\n",
    "    # TODO: complete function"
   ]
  },
  {
   "cell_type": "code",
   "execution_count": 462,
   "metadata": {},
   "outputs": [
    {
     "data": {
      "text/plain": [
       "(1900.0, 2000.0, 0    1990.0\n",
       " dtype: float64)"
      ]
     },
     "execution_count": 462,
     "metadata": {},
     "output_type": "execute_result"
    }
   ],
   "source": [
    "def birth_years():\n",
    "    '''TODO: fill out docstring with description, arguments, and return values.\n",
    "    Question: What are the earliest, most recent, and most popular birth years?\n",
    "    '''\n",
    "    earliest = selectfile['birth_year'].min()\n",
    "    latest = selectfile['birth_year'].max()\n",
    "    most_pop = selectfile['birth_year'].mode()\n",
    "    return earliest, latest, most_pop\n",
    "birth_years()\n",
    "    # TODO: complete function"
   ]
  },
  {
   "cell_type": "code",
   "execution_count": 496,
   "metadata": {},
   "outputs": [
    {
     "name": "stdout",
     "output_type": "stream",
     "text": [
      "Would you like to view individual trip data?Type 'yes' or 'no'. yes\n"
     ]
    },
    {
     "data": {
      "text/html": [
       "<div>\n",
       "<style scoped>\n",
       "    .dataframe tbody tr th:only-of-type {\n",
       "        vertical-align: middle;\n",
       "    }\n",
       "\n",
       "    .dataframe tbody tr th {\n",
       "        vertical-align: top;\n",
       "    }\n",
       "\n",
       "    .dataframe thead th {\n",
       "        text-align: right;\n",
       "    }\n",
       "</style>\n",
       "<table border=\"1\" class=\"dataframe\">\n",
       "  <thead>\n",
       "    <tr style=\"text-align: right;\">\n",
       "      <th></th>\n",
       "      <th>start_time</th>\n",
       "      <th>end_time</th>\n",
       "      <th>trip_duration</th>\n",
       "      <th>start_station</th>\n",
       "      <th>end_station</th>\n",
       "      <th>user_type</th>\n",
       "      <th>gender</th>\n",
       "      <th>birth_year</th>\n",
       "      <th>start_month</th>\n",
       "      <th>start_day</th>\n",
       "      <th>day_of_week</th>\n",
       "    </tr>\n",
       "  </thead>\n",
       "  <tbody>\n",
       "    <tr>\n",
       "      <th>0</th>\n",
       "      <td>2017-01-01 00:00:00</td>\n",
       "      <td>2017-01-01 00:06:00</td>\n",
       "      <td>356</td>\n",
       "      <td>Canal St &amp; Taylor St</td>\n",
       "      <td>Canal St &amp; Monroe St (*)</td>\n",
       "      <td>Customer</td>\n",
       "      <td>Female</td>\n",
       "      <td>1990.0</td>\n",
       "      <td>1</td>\n",
       "      <td>1</td>\n",
       "      <td>Sunday</td>\n",
       "    </tr>\n",
       "    <tr>\n",
       "      <th>1</th>\n",
       "      <td>2017-01-01 00:02:00</td>\n",
       "      <td>2017-01-01 00:08:00</td>\n",
       "      <td>327</td>\n",
       "      <td>Larrabee St &amp; Menomonee St</td>\n",
       "      <td>Sheffield Ave &amp; Kingsbury St</td>\n",
       "      <td>Subscriber</td>\n",
       "      <td>Male</td>\n",
       "      <td>1984.0</td>\n",
       "      <td>1</td>\n",
       "      <td>1</td>\n",
       "      <td>Sunday</td>\n",
       "    </tr>\n",
       "    <tr>\n",
       "      <th>2</th>\n",
       "      <td>2017-01-01 00:06:00</td>\n",
       "      <td>2017-01-01 00:18:00</td>\n",
       "      <td>745</td>\n",
       "      <td>Orleans St &amp; Chestnut St (NEXT Apts)</td>\n",
       "      <td>Ashland Ave &amp; Blackhawk St</td>\n",
       "      <td>Subscriber</td>\n",
       "      <td>Male</td>\n",
       "      <td>1985.0</td>\n",
       "      <td>1</td>\n",
       "      <td>1</td>\n",
       "      <td>Sunday</td>\n",
       "    </tr>\n",
       "    <tr>\n",
       "      <th>3</th>\n",
       "      <td>2017-01-01 00:07:00</td>\n",
       "      <td>2017-01-01 00:12:00</td>\n",
       "      <td>323</td>\n",
       "      <td>Franklin St &amp; Monroe St</td>\n",
       "      <td>Clinton St &amp; Tilden St</td>\n",
       "      <td>Subscriber</td>\n",
       "      <td>Male</td>\n",
       "      <td>1990.0</td>\n",
       "      <td>1</td>\n",
       "      <td>1</td>\n",
       "      <td>Sunday</td>\n",
       "    </tr>\n",
       "    <tr>\n",
       "      <th>4</th>\n",
       "      <td>2017-01-01 00:07:00</td>\n",
       "      <td>2017-01-01 00:20:00</td>\n",
       "      <td>776</td>\n",
       "      <td>Broadway &amp; Barry Ave</td>\n",
       "      <td>Sedgwick St &amp; North Ave</td>\n",
       "      <td>Subscriber</td>\n",
       "      <td>Male</td>\n",
       "      <td>1990.0</td>\n",
       "      <td>1</td>\n",
       "      <td>1</td>\n",
       "      <td>Sunday</td>\n",
       "    </tr>\n",
       "  </tbody>\n",
       "</table>\n",
       "</div>"
      ],
      "text/plain": [
       "           start_time            end_time  trip_duration  \\\n",
       "0 2017-01-01 00:00:00 2017-01-01 00:06:00            356   \n",
       "1 2017-01-01 00:02:00 2017-01-01 00:08:00            327   \n",
       "2 2017-01-01 00:06:00 2017-01-01 00:18:00            745   \n",
       "3 2017-01-01 00:07:00 2017-01-01 00:12:00            323   \n",
       "4 2017-01-01 00:07:00 2017-01-01 00:20:00            776   \n",
       "\n",
       "                          start_station                   end_station  \\\n",
       "0                  Canal St & Taylor St      Canal St & Monroe St (*)   \n",
       "1            Larrabee St & Menomonee St  Sheffield Ave & Kingsbury St   \n",
       "2  Orleans St & Chestnut St (NEXT Apts)    Ashland Ave & Blackhawk St   \n",
       "3               Franklin St & Monroe St        Clinton St & Tilden St   \n",
       "4                  Broadway & Barry Ave       Sedgwick St & North Ave   \n",
       "\n",
       "    user_type  gender  birth_year  start_month  start_day day_of_week  \n",
       "0    Customer  Female      1990.0            1          1      Sunday  \n",
       "1  Subscriber    Male      1984.0            1          1      Sunday  \n",
       "2  Subscriber    Male      1985.0            1          1      Sunday  \n",
       "3  Subscriber    Male      1990.0            1          1      Sunday  \n",
       "4  Subscriber    Male      1990.0            1          1      Sunday  "
      ]
     },
     "execution_count": 496,
     "metadata": {},
     "output_type": "execute_result"
    }
   ],
   "source": [
    "def display_data():\n",
    "    '''Displays five lines of data if the user specifies that they would like to.\n",
    "    After displaying five lines, ask the user if they would like to see five more,\n",
    "    continuing asking until they say stop.\n",
    "\n",
    "    Args:\n",
    "        none.\n",
    "    Returns:\n",
    "        TODO: fill out return type and description (see get_city for an example)\n",
    "    '''\n",
    "    display = input('Would you like to view individual trip data?'\n",
    "                    'Type \\'yes\\' or \\'no\\'. ')\n",
    "    while display == 'yes':\n",
    "        five_rows = selectfile[:5]\n",
    "        return(five_rows)\n",
    "        continue\n",
    "        if display == 'no':\n",
    "            break\n",
    "    \n",
    "display_data()\n",
    "    # TODO: handle raw input and complete function"
   ]
  },
  {
   "cell_type": "code",
   "execution_count": 491,
   "metadata": {},
   "outputs": [
    {
     "ename": "IndentationError",
     "evalue": "expected an indented block (<ipython-input-491-3a121447f4ea>, line 31)",
     "output_type": "error",
     "traceback": [
      "\u001b[0;36m  File \u001b[0;32m\"<ipython-input-491-3a121447f4ea>\"\u001b[0;36m, line \u001b[0;32m31\u001b[0m\n\u001b[0;31m    print(\"That took %s seconds.\" % (time.time() - start_time))\u001b[0m\n\u001b[0m        ^\u001b[0m\n\u001b[0;31mIndentationError\u001b[0m\u001b[0;31m:\u001b[0m expected an indented block\n"
     ]
    }
   ],
   "source": [
    "def statistics():\n",
    "    '''Calculates and prints out the descriptive statistics about a city and time period\n",
    "    specified by the user via raw input.\n",
    "\n",
    "    Args:\n",
    "        none.\n",
    "    Returns:\n",
    "        none.\n",
    "    '''\n",
    "    # Filter by city (Chicago, New York, Washington)\n",
    "    selectfile = city\n",
    "    \n",
    "    # Filter by time period (month, day, none)\n",
    "    time_period = get_time_period()\n",
    "\n",
    "    print('Calculating the first statistic...')\n",
    "    start_time = time.time()\n",
    "\n",
    "    # What is the most popular month for start time?\n",
    "    #if time_period == 'none':\n",
    "        # TODO: call popular_month function and print the results\n",
    "\n",
    "    print(\"That took %s seconds.\" % (time.time() - start_time))\n",
    "    print(\"Calculating the next statistic...\")\n",
    "    start_time = time.time()\n",
    "\n",
    "    # What is the most popular day of week (Monday, Tuesday, etc.) for start time?\n",
    "    if time_period == 'none' or time_period == 'month':\n",
    "        # TODO: call popular_day function and print the results\n",
    "\n",
    "    print(\"That took %s seconds.\" % (time.time() - start_time))\n",
    "    print(\"Calculating the next statistic...\")\n",
    "    start_time = time.time()\n",
    "\n",
    "    # What is the most popular hour of day for start time?\n",
    "    # TODO: call popular_day function and print the results\n",
    "\n",
    "    print(\"That took %s seconds.\" % (time.time() - start_time))\n",
    "    print(\"Calculating the next statistic...\")\n",
    "    start_time = time.time()\n",
    "\n",
    "    # What is the total trip duration and average trip duration?\n",
    "    # TODO: call trip_duration function and print the results\n",
    "\n",
    "    print(\"That took %s seconds.\" % (time.time() - start_time))\n",
    "    print(\"Calculating the next statistic...\")\n",
    "    start_time = time.time()\n",
    "\n",
    "    # What is the most popular start station and most popular end station?\n",
    "    # TODO: call popular_stations function and print the results\n",
    "\n",
    "    print(\"That took %s seconds.\" % (time.time() - start_time))\n",
    "    print(\"Calculating the next statistic...\")\n",
    "    start_time = time.time()\n",
    "\n",
    "    # What is the most popular trip?\n",
    "    # TODO: call popular_trip function and print the results\n",
    "\n",
    "    print(\"That took %s seconds.\" % (time.time() - start_time))\n",
    "    print(\"Calculating the next statistic...\")\n",
    "    start_time = time.time()\n",
    "\n",
    "    # What are the counts of each user type?\n",
    "    # TODO: call users function and print the results\n",
    "\n",
    "    print(\"That took %s seconds.\" % (time.time() - start_time))\n",
    "    print(\"Calculating the next statistic...\")\n",
    "    start_time = time.time()\n",
    "\n",
    "    # What are the counts of gender?\n",
    "    # TODO: call gender function and print the results\n",
    "\n",
    "    print(\"That took %s seconds.\" % (time.time() - start_time))\n",
    "    print(\"Calculating the next statistic...\")\n",
    "    start_time = time.time() \n",
    "\n",
    "    # What are the earliest, most recent, and most popular birth years?\n",
    "    # TODO: call birth_years function and print the results\n",
    "\n",
    "    print(\"That took %s seconds.\" % (time.time() - start_time))\n",
    "\n",
    "    # Display five lines of data at a time if user specifies that they would like to\n",
    "    display_data()\n",
    "\n",
    "    # Restart?\n",
    "    restart = input('Would you like to restart? Type \\'yes\\' or \\'no\\'.')\n",
    "    if restart.lower() == 'yes':\n",
    "        statistics()\n",
    "\n",
    "\n",
    "if __name__ == \"__main__\":\n",
    "\tstatistics()\n"
   ]
  },
  {
   "cell_type": "code",
   "execution_count": null,
   "metadata": {
    "collapsed": true
   },
   "outputs": [],
   "source": []
  }
 ],
 "metadata": {
  "kernelspec": {
   "display_name": "Python [conda env:anaconda3]",
   "language": "python",
   "name": "conda-env-anaconda3-py"
  },
  "language_info": {
   "codemirror_mode": {
    "name": "ipython",
    "version": 3
   },
   "file_extension": ".py",
   "mimetype": "text/x-python",
   "name": "python",
   "nbconvert_exporter": "python",
   "pygments_lexer": "ipython3",
   "version": "3.6.4"
  }
 },
 "nbformat": 4,
 "nbformat_minor": 2
}
